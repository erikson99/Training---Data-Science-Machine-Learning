{
  "nbformat": 4,
  "nbformat_minor": 0,
  "metadata": {
    "colab": {
      "name": "STP-Day02.ipynb",
      "provenance": [],
      "authorship_tag": "ABX9TyPgcdu/2VXRke7QDAy/KChQ",
      "include_colab_link": true
    },
    "kernelspec": {
      "name": "python3",
      "display_name": "Python 3"
    },
    "language_info": {
      "name": "python"
    }
  },
  "cells": [
    {
      "cell_type": "markdown",
      "metadata": {
        "id": "view-in-github",
        "colab_type": "text"
      },
      "source": [
        "<a href=\"https://colab.research.google.com/github/erikson99/Training-DataScience-MachineLearning/blob/main/STP_Day02.ipynb\" target=\"_parent\"><img src=\"https://colab.research.google.com/assets/colab-badge.svg\" alt=\"Open In Colab\"/></a>"
      ]
    },
    {
      "cell_type": "markdown",
      "metadata": {
        "id": "4DA1lWFPokwW"
      },
      "source": [
        "## **STP Day02 Assignments: 2021-05-21**"
      ]
    },
    {
      "cell_type": "markdown",
      "metadata": {
        "id": "VUZhVyyWoY-5"
      },
      "source": [
        "### 1. We are having 3 lists like this:"
      ]
    },
    {
      "cell_type": "code",
      "metadata": {
        "id": "vVRIJRofo2to"
      },
      "source": [
        "Colors = [\"Yellow\",\"Green\",\"White\",\"Black\"]\n",
        "Fruits=[\"Apple\",\"Papaya\",\"Mango\",\"Orange\"]\n",
        "Animals=[\"Tiger\",\"Lion\",\"Deer\",\"Zebra\"]"
      ],
      "execution_count": 1,
      "outputs": []
    },
    {
      "cell_type": "markdown",
      "metadata": {
        "id": "60zCUP-kpTK0"
      },
      "source": [
        "i. Write a program that asks user to enter a Color/Fruit/Animal name and it should tell which category belongs to, like its is a fruit or color or Animal"
      ]
    },
    {
      "cell_type": "code",
      "metadata": {
        "colab": {
          "base_uri": "https://localhost:8080/"
        },
        "id": "6wtvToPHpNj4",
        "outputId": "c821f4ea-fdaa-47af-ce93-9ab4c2da5848"
      },
      "source": [
        "entry = input(\"Enter the object name: \")\n",
        "if entry in Colors:\n",
        "    print(entry,\"is a Color.\")\n",
        "elif entry in Fruits:\n",
        "    print(entry, \"is a Fruit.\")\n",
        "elif entry in Animals:\n",
        "    print(entry, \"is an Animal.\")\n",
        "else:\n",
        "    print(entry, \"is not valid!\")"
      ],
      "execution_count": 2,
      "outputs": [
        {
          "output_type": "stream",
          "text": [
            "Enter the object name: Tiger\n",
            "Tiger is an Animal.\n"
          ],
          "name": "stdout"
        }
      ]
    },
    {
      "cell_type": "markdown",
      "metadata": {
        "id": "ElmFkypUpjag"
      },
      "source": [
        "ii. Write a program that asks user to enter two cities and it tells you if they both are in same country or not. For example if I enter yellow and Black, it will print \"Both are colors\" but if I enter yellow and Tiger it should print \"They don't belong to same category\""
      ]
    },
    {
      "cell_type": "code",
      "metadata": {
        "colab": {
          "base_uri": "https://localhost:8080/"
        },
        "id": "E6aJpSGXpOIV",
        "outputId": "19248efc-422d-44fd-f237-2e3eebaef648"
      },
      "source": [
        "entry1 = input(\"Enter the object1 name: \")\n",
        "entry2 = input(\"Enter the object2 name: \")\n",
        "\n",
        "if entry1 in Colors and entry2 in Colors:\n",
        "    print(entry1,\"and\",entry2,\"are both Colors.\")\n",
        "elif entry1 in Fruits and entry2 in Fruits:\n",
        "    print(entry1,\"and\",entry2, \"are both Fruits.\")\n",
        "elif entry1 in Animals and entry2 in Animals:\n",
        "    print(entry1,\"and\",entry2, \"are both Animals.\")\n",
        "else:\n",
        "    print(entry1,\"and\",entry2, \"They don't belong to same category!\")"
      ],
      "execution_count": 3,
      "outputs": [
        {
          "output_type": "stream",
          "text": [
            "Enter the object1 name: Tiger\n",
            "Enter the object2 name: Lion\n",
            "Tiger and Lion are both Animals.\n"
          ],
          "name": "stdout"
        }
      ]
    },
    {
      "cell_type": "markdown",
      "metadata": {
        "id": "2OHqX2f0pv3I"
      },
      "source": [
        "### 2. Write a python program that can tell you if your grade score good or not . Good Score range is 40 to 60."
      ]
    },
    {
      "cell_type": "code",
      "metadata": {
        "colab": {
          "base_uri": "https://localhost:8080/"
        },
        "id": "p8T38CYapOgx",
        "outputId": "509d3c52-2f13-49d5-a472-2b06a25d53f6"
      },
      "source": [
        "# i. Ask user to enter his score.\n",
        "score = int(input(\"Enter your score: \"))\n",
        "\n",
        "# ii. If it is below 40 to 60 range then print that score is low\n",
        "# iii. If it is above 60 then print that it is good otherwise print that it is normal\n",
        "\n",
        "if score < 40:\n",
        "    print(\"Your score is Low\")\n",
        "elif score > 60:\n",
        "    print(\"Your score is Good\")\n",
        "else:\n",
        "    print(\"Your score is Normal\")"
      ],
      "execution_count": 4,
      "outputs": [
        {
          "output_type": "stream",
          "text": [
            "Enter your score: 85\n",
            "Your score is Good\n"
          ],
          "name": "stdout"
        }
      ]
    },
    {
      "cell_type": "markdown",
      "metadata": {
        "id": "T_saC61lp88T"
      },
      "source": [
        "3. After appearing in exam 10 times you got this result,"
      ]
    },
    {
      "cell_type": "code",
      "metadata": {
        "id": "H5HEDInCpO5v"
      },
      "source": [
        "result = [\"Pass\",\"Fail\",\"Fail\",\"Pass\",\"Fail\",\"Pass\",\"Pass\",\"Fail\",\"Fail\",\"Fail\"]"
      ],
      "execution_count": 5,
      "outputs": []
    },
    {
      "cell_type": "code",
      "metadata": {
        "colab": {
          "base_uri": "https://localhost:8080/"
        },
        "id": "a5U5vq8jpPFd",
        "outputId": "a56667fa-d5a8-4033-917b-8a76d7f38c39"
      },
      "source": [
        "# Using for loop figure out how many times you got Pass\n",
        "\n",
        "pass_exam = 0\n",
        "for res in result:\n",
        "    if res == \"Pass\":\n",
        "        pass_exam +=1\n",
        "\n",
        "print(\"You Pass the exam\", pass_exam,\"times\")"
      ],
      "execution_count": 6,
      "outputs": [
        {
          "output_type": "stream",
          "text": [
            "You Pass the exam 4 times\n"
          ],
          "name": "stdout"
        }
      ]
    },
    {
      "cell_type": "code",
      "metadata": {
        "id": "UpEiu7CKpPRa"
      },
      "source": [
        ""
      ],
      "execution_count": null,
      "outputs": []
    },
    {
      "cell_type": "markdown",
      "metadata": {
        "id": "Y1NY0vHKqJec"
      },
      "source": [
        "4. Write a program that prints following shape"
      ]
    },
    {
      "cell_type": "code",
      "metadata": {
        "colab": {
          "base_uri": "https://localhost:8080/",
          "height": 35
        },
        "id": "8Y9BYXs9o4zE",
        "outputId": "ba5e96e0-ee4c-4809-d3c3-469103019219"
      },
      "source": [
        "'''\n",
        "*\n",
        "* *\n",
        "* * *\n",
        "* * * *\n",
        "* * * * *\n",
        "* * * *\n",
        "* * *\n",
        "* *\n",
        "*\n",
        "'''"
      ],
      "execution_count": 7,
      "outputs": [
        {
          "output_type": "execute_result",
          "data": {
            "application/vnd.google.colaboratory.intrinsic+json": {
              "type": "string"
            },
            "text/plain": [
              "'\\n*\\n* *\\n* * *\\n* * * *\\n* * * * *\\n* * * *\\n* * *\\n* *\\n*\\n'"
            ]
          },
          "metadata": {
            "tags": []
          },
          "execution_count": 7
        }
      ]
    },
    {
      "cell_type": "code",
      "metadata": {
        "colab": {
          "base_uri": "https://localhost:8080/"
        },
        "id": "Ey8q7OOFqO2h",
        "outputId": "a14c00ec-e5f5-4140-b6dd-a7957e4c5fef"
      },
      "source": [
        "n = 5\n",
        "for i in range(1, n+1):\n",
        "    for j in range(i):\n",
        "        print(\"*\", end=\" \")\n",
        "    print()\n",
        "\n",
        "for i in range(n-1,0,-1):\n",
        "    for j in range(i):\n",
        "        print(\"*\", end=\" \")\n",
        "    print()"
      ],
      "execution_count": 8,
      "outputs": [
        {
          "output_type": "stream",
          "text": [
            "* \n",
            "* * \n",
            "* * * \n",
            "* * * * \n",
            "* * * * * \n",
            "* * * * \n",
            "* * * \n",
            "* * \n",
            "* \n"
          ],
          "name": "stdout"
        }
      ]
    },
    {
      "cell_type": "code",
      "metadata": {
        "id": "8D-CMj9fqO9G"
      },
      "source": [
        ""
      ],
      "execution_count": null,
      "outputs": []
    },
    {
      "cell_type": "markdown",
      "metadata": {
        "id": "uuULe9wGqdTv"
      },
      "source": [
        "5. Lets say you are running a 50 km race. Write a program that,"
      ]
    },
    {
      "cell_type": "code",
      "metadata": {
        "colab": {
          "base_uri": "https://localhost:8080/"
        },
        "id": "axUQ1t7iqPDb",
        "outputId": "557ed5f6-32c5-4976-af24-1be209cc70da"
      },
      "source": [
        "# Upon completing each 10 km asks you \"are you tired?\"\n",
        "# If you reply \"yes\" then it should break and print \"you didn't finish the race\"\n",
        "# If you reply \"no\" then it should continue and ask \"are you tired\" on every km\n",
        "\n",
        "for i in range(51):\n",
        "    if i % 10 == 0:\n",
        "        res = input(\"Are you tired?\")\n",
        "        if res.upper() == \"YES\":\n",
        "            print(\"You didn't finish the race!\")\n",
        "            break\n",
        "        elif res.upper() == \"NO\":\n",
        "            continue\n",
        "    res = input(\"Are you tired?\")\n",
        "    \n",
        "    if i == 50:\n",
        "        print(\"Congratulations!\")"
      ],
      "execution_count": 9,
      "outputs": [
        {
          "output_type": "stream",
          "text": [
            "Are you tired?no\n",
            "Are you tired?yes\n",
            "Are you tired?n\n",
            "Are you tired?yes\n",
            "Are you tired?yes\n",
            "Are you tired?yes\n",
            "Are you tired?yes\n",
            "Are you tired?yes\n",
            "Are you tired?yes\n",
            "Are you tired?yes\n",
            "Are you tired?yes\n",
            "You didn't finish the race!\n"
          ],
          "name": "stdout"
        }
      ]
    },
    {
      "cell_type": "markdown",
      "metadata": {
        "id": "060WAjKuqxlk"
      },
      "source": [
        "6. Write a Python program to find those numbers which are divisible by 7 and multiple of 5, between 1500 and 2700 (both included)."
      ]
    },
    {
      "cell_type": "code",
      "metadata": {
        "colab": {
          "base_uri": "https://localhost:8080/"
        },
        "id": "KoaUwWQrqu-l",
        "outputId": "1d21759e-0ef3-4588-bc07-b11be93a38da"
      },
      "source": [
        "for i in range(1500, 2701):\n",
        "    if i%7 == 0 and i%5 == 0:\n",
        "        print(i)"
      ],
      "execution_count": 10,
      "outputs": [
        {
          "output_type": "stream",
          "text": [
            "1505\n",
            "1540\n",
            "1575\n",
            "1610\n",
            "1645\n",
            "1680\n",
            "1715\n",
            "1750\n",
            "1785\n",
            "1820\n",
            "1855\n",
            "1890\n",
            "1925\n",
            "1960\n",
            "1995\n",
            "2030\n",
            "2065\n",
            "2100\n",
            "2135\n",
            "2170\n",
            "2205\n",
            "2240\n",
            "2275\n",
            "2310\n",
            "2345\n",
            "2380\n",
            "2415\n",
            "2450\n",
            "2485\n",
            "2520\n",
            "2555\n",
            "2590\n",
            "2625\n",
            "2660\n",
            "2695\n"
          ],
          "name": "stdout"
        }
      ]
    },
    {
      "cell_type": "markdown",
      "metadata": {
        "id": "yLAEUTzsq6_y"
      },
      "source": [
        "7. Print square of all numbers between 10 to 20 except even numbers"
      ]
    },
    {
      "cell_type": "code",
      "metadata": {
        "colab": {
          "base_uri": "https://localhost:8080/"
        },
        "id": "fk2SESGHqPJz",
        "outputId": "e2df4bff-220a-45c5-ba68-6ef4309b3d01"
      },
      "source": [
        "for i in range(10,20):\n",
        "    if i%2 != 0:\n",
        "        print(i*i)"
      ],
      "execution_count": 11,
      "outputs": [
        {
          "output_type": "stream",
          "text": [
            "121\n",
            "169\n",
            "225\n",
            "289\n",
            "361\n"
          ],
          "name": "stdout"
        }
      ]
    },
    {
      "cell_type": "markdown",
      "metadata": {
        "id": "fn0ntlKKrDh-"
      },
      "source": [
        "8. Your Marks for five Test(test1 to test5) looks like this,"
      ]
    },
    {
      "cell_type": "code",
      "metadata": {
        "id": "4UaDlx5wrMHA"
      },
      "source": [
        "marks_list = [65, 75, 2100, 95, 83]"
      ],
      "execution_count": 13,
      "outputs": []
    },
    {
      "cell_type": "code",
      "metadata": {
        "colab": {
          "base_uri": "https://localhost:8080/"
        },
        "id": "9YMTnhiWqvHB",
        "outputId": "60a52b59-48ab-4307-d051-2e16a2a1de2b"
      },
      "source": [
        "# Write a program that asks you to enter marks and program should tell you in which test that expense occurred.\n",
        "# If expense is not found then it should print that as well.\n",
        "mark = int(input(\"Enter your mark: \"))\n",
        "\n",
        "if mark in marks_list:\n",
        "    id = marks_list.index(mark)\n",
        "    print(\"This mark (\",mark,\") is your Test\",id+1)\n",
        "else:\n",
        "    print(\"This mark (\",mark,\") is not found in your test list\")"
      ],
      "execution_count": 15,
      "outputs": [
        {
          "output_type": "stream",
          "text": [
            "Enter your mark: 95\n",
            "This mark ( 95 ) is your Test 4\n"
          ],
          "name": "stdout"
        }
      ]
    },
    {
      "cell_type": "code",
      "metadata": {
        "id": "ubGluER-qvN6"
      },
      "source": [
        ""
      ],
      "execution_count": null,
      "outputs": []
    },
    {
      "cell_type": "code",
      "metadata": {
        "id": "qrKXIYsaqPRG"
      },
      "source": [
        ""
      ],
      "execution_count": null,
      "outputs": []
    }
  ]
}
