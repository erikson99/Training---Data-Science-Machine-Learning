{
 "cells": [
  {
   "cell_type": "markdown",
   "id": "spiritual-treasure",
   "metadata": {},
   "source": [
    "## STP Day 02 : 2021-05-21"
   ]
  },
  {
   "cell_type": "markdown",
   "id": "subsequent-volleyball",
   "metadata": {},
   "source": [
    "## 1. We are having 3 lists like this"
   ]
  },
  {
   "cell_type": "code",
   "execution_count": 45,
   "id": "weighted-piece",
   "metadata": {},
   "outputs": [],
   "source": [
    "Colors = [\"Yellow\",\"Green\",\"White\",\"Black\"]\n",
    "Fruits=[\"Apple\",\"Papaya\",\"Mango\",\"Orange\"]\n",
    "Animals=[\"Tiger\",\"Lion\",\"Deer\",\"Zebra\"]"
   ]
  },
  {
   "cell_type": "markdown",
   "id": "minus-novel",
   "metadata": {},
   "source": [
    "### i. Write a program that asks user to enter a Color/Fruit/Animal name and it should tell which category belongs to, like its is a fruit or color or Animal"
   ]
  },
  {
   "cell_type": "code",
   "execution_count": 12,
   "id": "constant-collar",
   "metadata": {},
   "outputs": [
    {
     "name": "stdout",
     "output_type": "stream",
     "text": [
      "Enter the object name: Mango\n",
      "Mango is a Fruit\n"
     ]
    }
   ],
   "source": [
    "entry = input(\"Enter the object name: \")\n",
    "if entry in Colors:\n",
    "    print(entry,\"is a Color.\")\n",
    "elif entry in Fruits:\n",
    "    print(entry, \"is a Fruit.\")\n",
    "elif entry in Animals:\n",
    "    print(entry, \"is an Animal.\")\n",
    "else:\n",
    "    print(entry, \"is not valid!\")"
   ]
  },
  {
   "cell_type": "markdown",
   "id": "empirical-external",
   "metadata": {},
   "source": [
    "### ii. Write a program that asks user to enter two cities and it tells you if they both are in same country or not. For example if I enter yellow and Black, it will print \"Both are colors\" but if I enter yellow and Tiger it should print \"They don't belong to same category\""
   ]
  },
  {
   "cell_type": "code",
   "execution_count": 14,
   "id": "hydraulic-bermuda",
   "metadata": {},
   "outputs": [
    {
     "name": "stdout",
     "output_type": "stream",
     "text": [
      "Enter the object1 name: Black\n",
      "Enter the object2 name: Tiger\n",
      "Black and Tiger They don't belong to same category!\n"
     ]
    }
   ],
   "source": [
    "entry1 = input(\"Enter the object1 name: \")\n",
    "entry2 = input(\"Enter the object2 name: \")\n",
    "\n",
    "if entry1 in Colors and entry2 in Colors:\n",
    "    print(entry1,\"and\",entry2,\"are both Colors.\")\n",
    "elif entry1 in Fruits and entry2 in Fruits:\n",
    "    print(entry1,\"and\",entry2, \"are both Fruits.\")\n",
    "elif entry1 in Animals and entry2 in Animals:\n",
    "    print(entry1,\"and\",entry2, \"are both Animals.\")\n",
    "else:\n",
    "    print(entry1,\"and\",entry2, \"They don't belong to same category!\")"
   ]
  },
  {
   "cell_type": "code",
   "execution_count": null,
   "id": "brutal-aquarium",
   "metadata": {},
   "outputs": [],
   "source": []
  },
  {
   "cell_type": "markdown",
   "id": "amateur-female",
   "metadata": {},
   "source": [
    "## 2.  Write a python program that can tell you if your grade score good or not . Good Score range is 40 to 60."
   ]
  },
  {
   "cell_type": "code",
   "execution_count": 20,
   "id": "married-writing",
   "metadata": {},
   "outputs": [
    {
     "name": "stdout",
     "output_type": "stream",
     "text": [
      "Enter your score: 30\n",
      "Your score is Low\n"
     ]
    }
   ],
   "source": [
    "# i. Ask user to enter his score.\n",
    "score = int(input(\"Enter your score: \"))\n",
    "\n",
    "# ii. If it is below 40 to 60 range then print that score is low\n",
    "# iii. If it is above 60 then print that it is good otherwise print that it is normal\n",
    "\n",
    "if score < 40:\n",
    "    print(\"Your score is Low\")\n",
    "elif score > 60:\n",
    "    print(\"Your score is Good\")\n",
    "else:\n",
    "    print(\"Your score is Normal\")"
   ]
  },
  {
   "cell_type": "code",
   "execution_count": null,
   "id": "liquid-samoa",
   "metadata": {},
   "outputs": [],
   "source": []
  },
  {
   "cell_type": "markdown",
   "id": "hydraulic-junction",
   "metadata": {},
   "source": [
    "## 3.  After appearing in exam 10 times you got this result,"
   ]
  },
  {
   "cell_type": "code",
   "execution_count": 21,
   "id": "wireless-salon",
   "metadata": {},
   "outputs": [],
   "source": [
    "result = [\"Pass\",\"Fail\",\"Fail\",\"Pass\",\"Fail\",\"Pass\",\"Pass\",\"Fail\",\"Fail\",\"Fail\"]\n"
   ]
  },
  {
   "cell_type": "code",
   "execution_count": 22,
   "id": "accurate-party",
   "metadata": {},
   "outputs": [
    {
     "name": "stdout",
     "output_type": "stream",
     "text": [
      "You pass the exam 4 times\n"
     ]
    }
   ],
   "source": [
    "# Using for loop figure out how many times you got Pass\n",
    "\n",
    "pass_exam = 0\n",
    "for res in result:\n",
    "    if res == \"Pass\":\n",
    "        pass_exam +=1\n",
    "\n",
    "print(\"You Pass the exam\", pass_exam,\"times\")\n",
    "    "
   ]
  },
  {
   "cell_type": "code",
   "execution_count": null,
   "id": "running-throat",
   "metadata": {},
   "outputs": [],
   "source": []
  },
  {
   "cell_type": "markdown",
   "id": "emotional-appreciation",
   "metadata": {},
   "source": [
    "## 4.  Write a program that prints following shape"
   ]
  },
  {
   "cell_type": "code",
   "execution_count": null,
   "id": "stock-husband",
   "metadata": {},
   "outputs": [],
   "source": [
    "'''\n",
    "*\n",
    "* *\n",
    "* * *\n",
    "* * * *\n",
    "* * * * *\n",
    "* * * *\n",
    "* * *\n",
    "* *\n",
    "*\n",
    "'''"
   ]
  },
  {
   "cell_type": "code",
   "execution_count": 29,
   "id": "fresh-qualification",
   "metadata": {},
   "outputs": [
    {
     "name": "stdout",
     "output_type": "stream",
     "text": [
      "* \n",
      "* * \n",
      "* * * \n",
      "* * * * \n",
      "* * * * * \n",
      "* * * * \n",
      "* * * \n",
      "* * \n",
      "* \n"
     ]
    }
   ],
   "source": [
    "n = 5\n",
    "for i in range(1, n+1):\n",
    "    for j in range(i):\n",
    "        print(\"*\", end=\" \")\n",
    "    print()\n",
    "\n",
    "for i in range(n-1,0,-1):\n",
    "    for j in range(i):\n",
    "        print(\"*\", end=\" \")\n",
    "    print()"
   ]
  },
  {
   "cell_type": "code",
   "execution_count": null,
   "id": "revised-malawi",
   "metadata": {},
   "outputs": [],
   "source": []
  },
  {
   "cell_type": "markdown",
   "id": "connected-reunion",
   "metadata": {},
   "source": [
    "## 5.   Lets say you are running a 50 km race. Write a program that,"
   ]
  },
  {
   "cell_type": "code",
   "execution_count": 33,
   "id": "revised-rider",
   "metadata": {},
   "outputs": [
    {
     "name": "stdout",
     "output_type": "stream",
     "text": [
      "Are you tired10?no\n",
      "Are you tired?\n",
      "Are you tired?\n",
      "Are you tired?\n",
      "Are you tired?\n",
      "Are you tired?\n",
      "Are you tired?\n",
      "Are you tired?\n",
      "Are you tired?\n",
      "Are you tired?\n",
      "Are you tired10?yes\n",
      "You didn't finish the race!\n"
     ]
    }
   ],
   "source": [
    "# Upon completing each 10 km asks you \"are you tired?\"\n",
    "# If you reply \"yes\" then it should break and print \"you didn't finish the race\"\n",
    "# If you reply \"no\" then it should continue and ask \"are you tired\" on every km\n",
    "\n",
    "for i in range(51):\n",
    "    if i % 10 == 0:\n",
    "        res = input(\"Are you tired?\")\n",
    "        if res.upper() == \"YES\":\n",
    "            print(\"You didn't finish the race!\")\n",
    "            break\n",
    "        elif res.upper() == \"NO\":\n",
    "            continue\n",
    "    res = input(\"Are you tired?\")\n",
    "    \n",
    "    if i == 50:\n",
    "        print(\"Congratulations!\")\n",
    "    "
   ]
  },
  {
   "cell_type": "code",
   "execution_count": null,
   "id": "combined-field",
   "metadata": {},
   "outputs": [],
   "source": []
  },
  {
   "cell_type": "markdown",
   "id": "found-kinase",
   "metadata": {},
   "source": [
    "## 6.  Write a Python program to find those numbers which are divisible by 7 and multiple of 5, between 1500 and 2700 (both included)."
   ]
  },
  {
   "cell_type": "code",
   "execution_count": 34,
   "id": "southeast-bidding",
   "metadata": {},
   "outputs": [
    {
     "name": "stdout",
     "output_type": "stream",
     "text": [
      "1505\n",
      "1540\n",
      "1575\n",
      "1610\n",
      "1645\n",
      "1680\n",
      "1715\n",
      "1750\n",
      "1785\n",
      "1820\n",
      "1855\n",
      "1890\n",
      "1925\n",
      "1960\n",
      "1995\n",
      "2030\n",
      "2065\n",
      "2100\n",
      "2135\n",
      "2170\n",
      "2205\n",
      "2240\n",
      "2275\n",
      "2310\n",
      "2345\n",
      "2380\n",
      "2415\n",
      "2450\n",
      "2485\n",
      "2520\n",
      "2555\n",
      "2590\n",
      "2625\n",
      "2660\n",
      "2695\n"
     ]
    }
   ],
   "source": [
    "for i in range(1500, 2701):\n",
    "    if i%7 == 0 and i%5 == 0:\n",
    "        print(i)"
   ]
  },
  {
   "cell_type": "code",
   "execution_count": null,
   "id": "jewish-drilling",
   "metadata": {},
   "outputs": [],
   "source": []
  },
  {
   "cell_type": "markdown",
   "id": "individual-repository",
   "metadata": {},
   "source": [
    "## 7.   Print square of all numbers between 10 to 20 except even numbers"
   ]
  },
  {
   "cell_type": "code",
   "execution_count": 35,
   "id": "entertaining-august",
   "metadata": {},
   "outputs": [
    {
     "name": "stdout",
     "output_type": "stream",
     "text": [
      "121\n",
      "169\n",
      "225\n",
      "289\n",
      "361\n"
     ]
    }
   ],
   "source": [
    "for i in range(10,20):\n",
    "    if i%2 != 0:\n",
    "        print(i*i)"
   ]
  },
  {
   "cell_type": "code",
   "execution_count": null,
   "id": "liquid-think",
   "metadata": {},
   "outputs": [],
   "source": []
  },
  {
   "cell_type": "markdown",
   "id": "democratic-hypothesis",
   "metadata": {},
   "source": [
    "## 8.  Your Marks for five Test(test1 to test5) looks like this,"
   ]
  },
  {
   "cell_type": "code",
   "execution_count": 36,
   "id": "actual-martial",
   "metadata": {},
   "outputs": [],
   "source": [
    "marks_list = [65, 75, 2100, 95, 83]"
   ]
  },
  {
   "cell_type": "code",
   "execution_count": 49,
   "id": "minus-steal",
   "metadata": {},
   "outputs": [
    {
     "name": "stdout",
     "output_type": "stream",
     "text": [
      "Enter your mark: 95\n",
      "This mark ( 95 ) is your Test 4\n"
     ]
    }
   ],
   "source": [
    "# Write a program that asks you to enter marks and program should tell you in which test that expense occurred.\n",
    "# If expense is not found then it should print that as well.\n",
    "mark = int(input(\"Enter your mark: \"))\n",
    "\n",
    "if mark in marks_list:\n",
    "    id = marks_list.index(mark)\n",
    "    print(\"This mark (\",mark,\") is your Test\",id+1)\n",
    "else:\n",
    "    print(\"This mark (\",mark,\") is not found in your test list\")"
   ]
  },
  {
   "cell_type": "code",
   "execution_count": null,
   "id": "complex-interest",
   "metadata": {},
   "outputs": [],
   "source": []
  }
 ],
 "metadata": {
  "kernelspec": {
   "display_name": "Python 3",
   "language": "python",
   "name": "python3"
  },
  "language_info": {
   "codemirror_mode": {
    "name": "ipython",
    "version": 3
   },
   "file_extension": ".py",
   "mimetype": "text/x-python",
   "name": "python",
   "nbconvert_exporter": "python",
   "pygments_lexer": "ipython3",
   "version": "3.9.0"
  }
 },
 "nbformat": 4,
 "nbformat_minor": 5
}
