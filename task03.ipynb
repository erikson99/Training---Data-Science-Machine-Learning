{
  "nbformat": 4,
  "nbformat_minor": 0,
  "metadata": {
    "colab": {
      "name": "STP-Task03.ipynb",
      "provenance": []
    },
    "kernelspec": {
      "name": "python3",
      "display_name": "Python 3"
    },
    "language_info": {
      "name": "python"
    }
  },
  "cells": [
    {
      "cell_type": "markdown",
      "metadata": {
        "id": "FUVPsZjfeJJS"
      },
      "source": [
        "## **STP Class03 Assignments: 2021-05-26**"
      ]
    },
    {
      "cell_type": "markdown",
      "metadata": {
        "id": "rLRtvlgUFOMe"
      },
      "source": [
        "# DICTIONARY"
      ]
    },
    {
      "cell_type": "markdown",
      "metadata": {
        "id": "96vmpF_TZRKH"
      },
      "source": [
        "### 1. Write a Python Program to sort (ascending and descending) a dictionary by value."
      ]
    },
    {
      "cell_type": "code",
      "metadata": {
        "id": "ECqlvvtZFMyM"
      },
      "source": [
        "datadict = {0: 55, 1: 30, 2: 15, 3: 23, 4: 47}"
      ],
      "execution_count": null,
      "outputs": []
    },
    {
      "cell_type": "code",
      "metadata": {
        "colab": {
          "base_uri": "https://localhost:8080/"
        },
        "id": "93w-CIMrZuah",
        "outputId": "1c9af273-ea59-4dd3-802e-a136473401ca"
      },
      "source": [
        "# 1. use sorted()\n",
        "datalist = sorted(datadict.items(),key=lambda x:x[1])\n",
        "sort_datadict = dict(datalist)\n",
        "print(sort_datadict)"
      ],
      "execution_count": null,
      "outputs": [
        {
          "output_type": "stream",
          "text": [
            "{2: 15, 3: 23, 1: 30, 4: 47, 0: 55}\n"
          ],
          "name": "stdout"
        }
      ]
    },
    {
      "cell_type": "code",
      "metadata": {
        "colab": {
          "base_uri": "https://localhost:8080/"
        },
        "id": "rCzij1qlk6Yv",
        "outputId": "271c3ba4-4351-4199-c352-c6d0926d090c"
      },
      "source": [
        "# 2. use itemgetter()\n",
        "import operator\n",
        "\n",
        "datalist = sorted(datadict.items(), key=operator.itemgetter(1))\n",
        "sort_datadict = dict(datalist)\n",
        "print(sort_datadict)"
      ],
      "execution_count": null,
      "outputs": [
        {
          "output_type": "stream",
          "text": [
            "{2: 15, 3: 23, 1: 30, 4: 47, 0: 55}\n"
          ],
          "name": "stdout"
        }
      ]
    },
    {
      "cell_type": "code",
      "metadata": {
        "colab": {
          "base_uri": "https://localhost:8080/"
        },
        "id": "dsFxVDnBlNGh",
        "outputId": "8aeb1f0d-6811-4f1e-c848-f3546168e98a"
      },
      "source": [
        "# 3. use dict.items()\n",
        "datalist=sorted((value, key) for (key,value) in datadict.items())\n",
        "sortdict=dict([(k,v) for v,k in datalist])\n",
        "print(sort_datadict)"
      ],
      "execution_count": null,
      "outputs": [
        {
          "output_type": "stream",
          "text": [
            "{2: 15, 3: 23, 1: 30, 4: 47, 0: 55}\n"
          ],
          "name": "stdout"
        }
      ]
    },
    {
      "cell_type": "markdown",
      "metadata": {
        "id": "tiClmdiTZ0R4"
      },
      "source": [
        "### 2. Write a Python Program to add a key to a dictionary."
      ]
    },
    {
      "cell_type": "code",
      "metadata": {
        "id": "r7IntSV2Z2tt"
      },
      "source": [
        "odict = {0: 10, 1: 20}"
      ],
      "execution_count": null,
      "outputs": []
    },
    {
      "cell_type": "code",
      "metadata": {
        "colab": {
          "base_uri": "https://localhost:8080/"
        },
        "id": "Ge9eSm01aAuZ",
        "outputId": "ca91b348-3f2e-4308-c897-a5541ad172ee"
      },
      "source": [
        "odict[2] = 30\n",
        "odict"
      ],
      "execution_count": null,
      "outputs": [
        {
          "output_type": "execute_result",
          "data": {
            "text/plain": [
              "{0: 10, 1: 20, 2: 30}"
            ]
          },
          "metadata": {
            "tags": []
          },
          "execution_count": 6
        }
      ]
    },
    {
      "cell_type": "markdown",
      "metadata": {
        "id": "Yj2jw1FjbhxS"
      },
      "source": [
        "### 3. Write a  program asks for City name and Temperature and builds a dictionary using that Later on you can input City name and it will tell you the Temperature of that City."
      ]
    },
    {
      "cell_type": "code",
      "metadata": {
        "colab": {
          "base_uri": "https://localhost:8080/"
        },
        "id": "HXavbaUtbOKY",
        "outputId": "29be1919-257c-44fb-fdc0-4ff80b355d5b"
      },
      "source": [
        "citytemp = {}\n",
        "\n",
        "city = input(\"Enter City name: \")\n",
        "temp = int(input(\"Enter Temperature: \"))\n",
        "citytemp [city] = temp\n",
        "find = input(\"Enter City name to search: \")\n",
        "print(\"Temperature of\", find, \"is\", citytemp[find], \"cg\")"
      ],
      "execution_count": null,
      "outputs": [
        {
          "output_type": "stream",
          "text": [
            "Enter City name: London\n",
            "Enter Temperature: 21\n",
            "Enter City name to search: London\n",
            "Temperature of London is 21 cg\n"
          ],
          "name": "stdout"
        }
      ]
    },
    {
      "cell_type": "markdown",
      "metadata": {
        "id": "-DqVYF-Vc8d4"
      },
      "source": [
        "### 4. Write a Python program to convert list to list of dictionaries.\n",
        "\n",
        "Expected Output: [{'color_name': 'Black', 'color_code': '#000000'}, {'color_name': 'Red', 'color_code': '#FF0000'}, {'color_name': 'Maroon', 'color_code': '#800000'}, {'color_name': 'Yellow', 'color_code': '#FFFF00'}]"
      ]
    },
    {
      "cell_type": "code",
      "metadata": {
        "id": "qZdbk_aFbju5"
      },
      "source": [
        "olist = [[\"Black\", \"Red\", \"Maroon\", \"Yellow\"], [\"#000000\", \"#FF0000\", \"#800000\", \"#FFFF00\"]]"
      ],
      "execution_count": null,
      "outputs": []
    },
    {
      "cell_type": "code",
      "metadata": {
        "colab": {
          "base_uri": "https://localhost:8080/"
        },
        "id": "sC371UURRj5J",
        "outputId": "e2d32a1a-46b9-4363-b5ae-028fd8e2b896"
      },
      "source": [
        "d = dict(zip(olist[0],olist[1]))\n",
        "d"
      ],
      "execution_count": null,
      "outputs": [
        {
          "output_type": "execute_result",
          "data": {
            "text/plain": [
              "{'Black': '#000000',\n",
              " 'Maroon': '#800000',\n",
              " 'Red': '#FF0000',\n",
              " 'Yellow': '#FFFF00'}"
            ]
          },
          "metadata": {
            "tags": []
          },
          "execution_count": 6
        }
      ]
    },
    {
      "cell_type": "code",
      "metadata": {
        "colab": {
          "base_uri": "https://localhost:8080/"
        },
        "id": "17365ZEEdYLa",
        "outputId": "4b75b5c3-742f-4e6c-9598-fc2e2292610d"
      },
      "source": [
        "lsdict = []\n",
        "for col,code in zip(olist[0],olist[1]):\n",
        "  ndict = {}\n",
        "  ndict[\"color_name\"] = code\n",
        "  ndict[\"color_code\"] = col\n",
        "  lsdict.append(ndict)\n",
        "lsdict"
      ],
      "execution_count": null,
      "outputs": [
        {
          "output_type": "execute_result",
          "data": {
            "text/plain": [
              "[{'color_code': 'Black', 'color_name': '#000000'},\n",
              " {'color_code': 'Red', 'color_name': '#FF0000'},\n",
              " {'color_code': 'Maroon', 'color_name': '#800000'},\n",
              " {'color_code': 'Yellow', 'color_name': '#FFFF00'}]"
            ]
          },
          "metadata": {
            "tags": []
          },
          "execution_count": 8
        }
      ]
    },
    {
      "cell_type": "markdown",
      "metadata": {
        "id": "qRa16xN1eG6r"
      },
      "source": [
        "### 5. We have following information on Employees and their Salary (Salary is in lakhs)\n",
        "\n",
        "Employee\tSalary\n",
        "\n",
        "John\t14\n",
        "\n",
        "Smith\t13\n",
        "\n",
        "Alice\t32\n",
        "\n",
        "Daneil\t21"
      ]
    },
    {
      "cell_type": "code",
      "metadata": {
        "colab": {
          "base_uri": "https://localhost:8080/"
        },
        "id": "8w0eO6M3eKBj",
        "outputId": "f2de66f9-c269-43ae-ed29-c83b5f0c801b"
      },
      "source": [
        "# 5.1. Using above create a dictionary of Employees and their Salary\n",
        "empdb = {}\n",
        "empdb[\"John\"] = 14\n",
        "empdb[\"Smith\"] = 13\n",
        "empdb[\"Alice\"] = 32\n",
        "empdb[\"Daneil\"] = 21\n",
        "empdb"
      ],
      "execution_count": null,
      "outputs": [
        {
          "output_type": "execute_result",
          "data": {
            "text/plain": [
              "{'Alice': 32, 'Daneil': 21, 'John': 14, 'Smith': 13}"
            ]
          },
          "metadata": {
            "tags": []
          },
          "execution_count": 17
        }
      ]
    },
    {
      "cell_type": "code",
      "metadata": {
        "id": "uERIcFrcewSm"
      },
      "source": [
        "# 5.2. Write a program that asks user for three type of inputs,\n",
        "# a. print: if user enter print then it should print all Employees with their Salary in this format,"
      ],
      "execution_count": null,
      "outputs": []
    },
    {
      "cell_type": "code",
      "metadata": {
        "colab": {
          "base_uri": "https://localhost:8080/"
        },
        "id": "IVxQARG7e5I_",
        "outputId": "aab1204e-ba45-48d5-ef44-71e28d660611"
      },
      "source": [
        "cmd = input(\"Enter your command: \")\n",
        "if cmd == \"print\":\n",
        "  for emp in empdb:\n",
        "    print(emp,\"==>\",empdb[emp])\n",
        "elif cmd == \"add\":\n",
        "  newemp = input(\"Enter Employee name: \")\n",
        "  if newemp in empdb.keys():\n",
        "    print(\"Employee\",newemp,\"already exists!\")\n",
        "  else:\n",
        "    newsal = int(input(\"Enter Salary: \"))\n",
        "    empdb[newemp] = newsal\n",
        "    print(empdb)\n",
        "elif cmd == \"remove\":\n",
        "  rmemp = input(\"Enter Employee name to remove: \")\n",
        "  if rmemp in empdb.keys():\n",
        "    empdb.pop(rmemp)\n",
        "    for emp in empdb:\n",
        "      print(emp,\"==>\",empdb[emp])\n",
        "  else:\n",
        "    print(\"Employee doesn't exists!\")\n",
        "elif cmd == \"query\":\n",
        "  femp = input(\"Enter Employee name: \")\n",
        "  if femp in empdb.keys():\n",
        "    print(\"Salary of\",femp,\"is\",empdb[femp])\n",
        "  else:\n",
        "    print(\"Employee doesn't exists!\")\n"
      ],
      "execution_count": null,
      "outputs": [
        {
          "output_type": "stream",
          "text": [
            "Enter your command: query\n",
            "Enter Employee name: Daneil\n",
            "Salary of Daneil is 21\n"
          ],
          "name": "stdout"
        }
      ]
    },
    {
      "cell_type": "code",
      "metadata": {
        "id": "26uxAX3FiCYE"
      },
      "source": [
        ""
      ],
      "execution_count": null,
      "outputs": []
    },
    {
      "cell_type": "markdown",
      "metadata": {
        "id": "QbvKGidSi0o0"
      },
      "source": [
        "## SET"
      ]
    },
    {
      "cell_type": "code",
      "metadata": {
        "id": "WA6Y5a2Fi2bD"
      },
      "source": [
        ""
      ],
      "execution_count": null,
      "outputs": []
    },
    {
      "cell_type": "markdown",
      "metadata": {
        "id": "WAOdLU4ni44p"
      },
      "source": [
        "### 1. What is the difference between a set and a frozenset? Create any set and try to use frozenset(setname)."
      ]
    },
    {
      "cell_type": "code",
      "metadata": {
        "id": "Zn3po8mNi8tu"
      },
      "source": [
        "myset = {'apple', 'banana', 'cherry'}"
      ],
      "execution_count": null,
      "outputs": []
    },
    {
      "cell_type": "code",
      "metadata": {
        "colab": {
          "base_uri": "https://localhost:8080/"
        },
        "id": "mSgRC0oCjS5l",
        "outputId": "5e79d1ab-d4e3-4e9c-fb8e-c5f6b9ff053f"
      },
      "source": [
        "myfrozset = frozenset(myset)\n",
        "myfrozset"
      ],
      "execution_count": null,
      "outputs": [
        {
          "output_type": "execute_result",
          "data": {
            "text/plain": [
              "frozenset({'apple', 'banana', 'cherry'})"
            ]
          },
          "metadata": {
            "tags": []
          },
          "execution_count": 32
        }
      ]
    },
    {
      "cell_type": "markdown",
      "metadata": {
        "id": "4E5X8tOnjkUk"
      },
      "source": [
        "### 2. Find the elements in a given set that are not in another set"
      ]
    },
    {
      "cell_type": "code",
      "metadata": {
        "id": "NEdeV0R3je9A"
      },
      "source": [
        "set1 = {10,20,30,40,50}\n",
        "set2 = {40,50,60,70,80}"
      ],
      "execution_count": null,
      "outputs": []
    },
    {
      "cell_type": "code",
      "metadata": {
        "colab": {
          "base_uri": "https://localhost:8080/"
        },
        "id": "AmTGXgbsj2MU",
        "outputId": "bdf64ca8-f6bf-4b38-a916-fdf1945dfc98"
      },
      "source": [
        "set1.difference(set2)"
      ],
      "execution_count": null,
      "outputs": [
        {
          "output_type": "execute_result",
          "data": {
            "text/plain": [
              "{10, 20, 30}"
            ]
          },
          "metadata": {
            "tags": []
          },
          "execution_count": 34
        }
      ]
    },
    {
      "cell_type": "code",
      "metadata": {
        "id": "diFaYMSBkATA"
      },
      "source": [
        ""
      ],
      "execution_count": null,
      "outputs": []
    }
  ]
}